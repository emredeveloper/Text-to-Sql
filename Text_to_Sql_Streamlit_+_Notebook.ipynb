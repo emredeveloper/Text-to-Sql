{
  "nbformat": 4,
  "nbformat_minor": 0,
  "metadata": {
    "colab": {
      "provenance": [],
      "gpuType": "T4",
      "authorship_tag": "ABX9TyOa+EdZlGtwtEryXOOCvKL6",
      "include_colab_link": true
    },
    "kernelspec": {
      "name": "python3",
      "display_name": "Python 3"
    },
    "language_info": {
      "name": "python"
    },
    "accelerator": "GPU"
  },
  "cells": [
    {
      "cell_type": "markdown",
      "metadata": {
        "id": "view-in-github",
        "colab_type": "text"
      },
      "source": [
        "<a href=\"https://colab.research.google.com/github/emredeveloper/Text-to-Sql/blob/main/Text_to_Sql_Streamlit_%2B_Notebook.ipynb\" target=\"_parent\"><img src=\"https://colab.research.google.com/assets/colab-badge.svg\" alt=\"Open In Colab\"/></a>"
      ]
    },
    {
      "cell_type": "code",
      "source": [
        "!wget https://huggingface.co/omeryentur/phi-3-sql/resolve/main/phi-3-sql.Q4_K_M.gguf"
      ],
      "metadata": {
        "id": "cEb0KTXyq_sd"
      },
      "execution_count": null,
      "outputs": []
    },
    {
      "cell_type": "code",
      "source": [
        "!pip install --upgrade --quiet  transformers --quiet\n",
        "!pip install langchain langchain_community --quiet"
      ],
      "metadata": {
        "id": "LPCyZCeOrCBG"
      },
      "execution_count": null,
      "outputs": []
    },
    {
      "cell_type": "code",
      "source": [
        "from langchain_community.llms import LlamaCpp"
      ],
      "metadata": {
        "id": "_DUOdOdAj9T7"
      },
      "execution_count": 7,
      "outputs": []
    },
    {
      "cell_type": "code",
      "source": [
        "client=LlamaCpp(model_path=\"/content/phi-3-sql.Q4_K_M.gguf\")\n"
      ],
      "metadata": {
        "id": "0hHFPvotmz3Q"
      },
      "execution_count": null,
      "outputs": []
    },
    {
      "cell_type": "code",
      "source": [
        "from langchain.prompts.prompt import PromptTemplate"
      ],
      "metadata": {
        "id": "mKQ_Yr9ym667"
      },
      "execution_count": 9,
      "outputs": []
    },
    {
      "cell_type": "code",
      "source": [
        "from langchain.sql_database import SQLDatabase"
      ],
      "metadata": {
        "id": "UJLyquKym-Fp"
      },
      "execution_count": 10,
      "outputs": []
    },
    {
      "cell_type": "markdown",
      "source": [
        "BU örnek database'i direkt githubdan indirip localde çalıştırabilirsiniz."
      ],
      "metadata": {
        "id": "j63BLRH2rJGN"
      }
    },
    {
      "cell_type": "code",
      "source": [
        "db_path=\"sqlite:///example.db\"\n",
        "db=SQLDatabase.from_uri(database_uri=db_path)"
      ],
      "metadata": {
        "id": "cF06--UKnEuq"
      },
      "execution_count": 11,
      "outputs": []
    },
    {
      "cell_type": "code",
      "source": [
        "db.get_table_names()"
      ],
      "metadata": {
        "colab": {
          "base_uri": "https://localhost:8080/"
        },
        "id": "4CqMqJ3qnLkk",
        "outputId": "633306da-8e72-4d3c-959e-99593bb919f9"
      },
      "execution_count": 12,
      "outputs": [
        {
          "output_type": "stream",
          "name": "stderr",
          "text": [
            "/usr/local/lib/python3.10/dist-packages/langchain_core/_api/deprecation.py:139: LangChainDeprecationWarning: The method `SQLDatabase.get_table_names` was deprecated in langchain-community 0.0.1 and will be removed in 0.3.0. Use get_usable_table_names instead.\n",
            "  warn_deprecated(\n"
          ]
        },
        {
          "output_type": "execute_result",
          "data": {
            "text/plain": [
              "['courses', 'students']"
            ]
          },
          "metadata": {},
          "execution_count": 12
        }
      ]
    },
    {
      "cell_type": "code",
      "source": [
        "db._sample_rows_in_table_info=0"
      ],
      "metadata": {
        "id": "v0-j2HW0nPC4"
      },
      "execution_count": 13,
      "outputs": []
    },
    {
      "cell_type": "code",
      "source": [
        "table_info=db.get_table_info()\n",
        "table_info"
      ],
      "metadata": {
        "colab": {
          "base_uri": "https://localhost:8080/",
          "height": 54
        },
        "id": "c6W8zpA3nSEF",
        "outputId": "59c15d27-21be-47c3-d107-e63f980b860e"
      },
      "execution_count": 14,
      "outputs": [
        {
          "output_type": "execute_result",
          "data": {
            "text/plain": [
              "'\\nCREATE TABLE courses (\\n\\tid INTEGER, \\n\\tname TEXT NOT NULL, \\n\\tdescription TEXT, \\n\\tPRIMARY KEY (id)\\n)\\n\\n\\nCREATE TABLE students (\\n\\tid INTEGER, \\n\\tname TEXT NOT NULL, \\n\\tage INTEGER NOT NULL, \\n\\tPRIMARY KEY (id)\\n)'"
            ],
            "application/vnd.google.colaboratory.intrinsic+json": {
              "type": "string"
            }
          },
          "metadata": {},
          "execution_count": 14
        }
      ]
    },
    {
      "cell_type": "code",
      "source": [
        "template=\"\"\"\n",
        "<|system|>\n",
        "{table_info}\n",
        "\n",
        "<|user|>\n",
        "{question}\n",
        "<|sql|>\n",
        "\"\"\""
      ],
      "metadata": {
        "id": "8dgjEP1wnZJ0"
      },
      "execution_count": 15,
      "outputs": []
    },
    {
      "cell_type": "code",
      "source": [
        "from langchain.schema import HumanMessage"
      ],
      "metadata": {
        "id": "PvMEzRSAncJE"
      },
      "execution_count": 16,
      "outputs": []
    },
    {
      "cell_type": "code",
      "source": [
        "question=\"Courses containing Introduction\"\n",
        "\n",
        "prompt=PromptTemplate.from_template(template)"
      ],
      "metadata": {
        "id": "tANjto87niwd"
      },
      "execution_count": 20,
      "outputs": []
    },
    {
      "cell_type": "code",
      "source": [
        "res=client(prompt.format(table_info=table_info,question=question))\n"
      ],
      "metadata": {
        "id": "fGJR7kg2nlPF"
      },
      "execution_count": null,
      "outputs": []
    },
    {
      "cell_type": "code",
      "source": [
        "sql_query=res\n",
        "sql_query"
      ],
      "metadata": {
        "colab": {
          "base_uri": "https://localhost:8080/",
          "height": 36
        },
        "id": "taez9ECRnuAY",
        "outputId": "a20a1f93-a96a-4584-ca82-c491839f13f2"
      },
      "execution_count": 22,
      "outputs": [
        {
          "output_type": "execute_result",
          "data": {
            "text/plain": [
              "\"SELECT * FROM courses WHERE description LIKE '%Introduction%' OR name LIKE '%Introduction%';\\n\""
            ],
            "application/vnd.google.colaboratory.intrinsic+json": {
              "type": "string"
            }
          },
          "metadata": {},
          "execution_count": 22
        }
      ]
    },
    {
      "cell_type": "code",
      "source": [
        "db.run(sql_query)\n"
      ],
      "metadata": {
        "colab": {
          "base_uri": "https://localhost:8080/",
          "height": 54
        },
        "id": "SPuj8VBroDaC",
        "outputId": "8daf94be-328b-4b89-b412-712a03529d37"
      },
      "execution_count": 23,
      "outputs": [
        {
          "output_type": "execute_result",
          "data": {
            "text/plain": [
              "\"[(2, 'Physics', 'Introduction to Physics'), (4, 'Biology', 'Introduction to Biology'), (6, 'Geography', 'Introduction to Geography'), (9, 'Computer Science', 'Introduction to Computer Science')]\""
            ],
            "application/vnd.google.colaboratory.intrinsic+json": {
              "type": "string"
            }
          },
          "metadata": {},
          "execution_count": 23
        }
      ]
    },
    {
      "cell_type": "code",
      "source": [
        "db.run(\"SELECT * FROM courses\")"
      ],
      "metadata": {
        "colab": {
          "base_uri": "https://localhost:8080/",
          "height": 72
        },
        "id": "-SztrReuoLIK",
        "outputId": "552a4c63-763c-4e82-df05-21311acd6a3a"
      },
      "execution_count": 24,
      "outputs": [
        {
          "output_type": "execute_result",
          "data": {
            "text/plain": [
              "\"[(1, 'Mathematics', 'Basic Mathematics Course'), (2, 'Physics', 'Introduction to Physics'), (3, 'Chemistry', 'Basic Chemistry Course'), (4, 'Biology', 'Introduction to Biology'), (5, 'History', 'World History Overview'), (6, 'Geography', 'Introduction to Geography'), (7, 'Literature', 'World Literature Overview'), (8, 'Art', 'Art History and Techniques'), (9, 'Computer Science', 'Introduction to Computer Science'), (10, 'Music', 'Fundamentals of Music')]\""
            ],
            "application/vnd.google.colaboratory.intrinsic+json": {
              "type": "string"
            }
          },
          "metadata": {},
          "execution_count": 24
        }
      ]
    },
    {
      "cell_type": "code",
      "source": [
        "import pandas as pd"
      ],
      "metadata": {
        "id": "7kPaQ3c9obi1"
      },
      "execution_count": 25,
      "outputs": []
    },
    {
      "cell_type": "code",
      "source": [
        "from sqlalchemy import create_engine\n",
        "engine = create_engine(\"sqlite:///example.db\")\n",
        "with engine.connect() as connection:\n",
        "  df = pd.read_sql_query(sql_query, connection,)"
      ],
      "metadata": {
        "id": "WGZsDHGsoWTy"
      },
      "execution_count": 28,
      "outputs": []
    },
    {
      "cell_type": "code",
      "source": [
        "df"
      ],
      "metadata": {
        "colab": {
          "base_uri": "https://localhost:8080/",
          "height": 175
        },
        "id": "w9QTa7RmpHp7",
        "outputId": "fcff77c5-201b-4645-8321-9f868a8f3a69"
      },
      "execution_count": 29,
      "outputs": [
        {
          "output_type": "execute_result",
          "data": {
            "text/plain": [
              "   id              name                       description\n",
              "0   2           Physics           Introduction to Physics\n",
              "1   4           Biology           Introduction to Biology\n",
              "2   6         Geography         Introduction to Geography\n",
              "3   9  Computer Science  Introduction to Computer Science"
            ],
            "text/html": [
              "\n",
              "  <div id=\"df-145ae11d-1759-4216-bc0e-bbcf11abe29f\" class=\"colab-df-container\">\n",
              "    <div>\n",
              "<style scoped>\n",
              "    .dataframe tbody tr th:only-of-type {\n",
              "        vertical-align: middle;\n",
              "    }\n",
              "\n",
              "    .dataframe tbody tr th {\n",
              "        vertical-align: top;\n",
              "    }\n",
              "\n",
              "    .dataframe thead th {\n",
              "        text-align: right;\n",
              "    }\n",
              "</style>\n",
              "<table border=\"1\" class=\"dataframe\">\n",
              "  <thead>\n",
              "    <tr style=\"text-align: right;\">\n",
              "      <th></th>\n",
              "      <th>id</th>\n",
              "      <th>name</th>\n",
              "      <th>description</th>\n",
              "    </tr>\n",
              "  </thead>\n",
              "  <tbody>\n",
              "    <tr>\n",
              "      <th>0</th>\n",
              "      <td>2</td>\n",
              "      <td>Physics</td>\n",
              "      <td>Introduction to Physics</td>\n",
              "    </tr>\n",
              "    <tr>\n",
              "      <th>1</th>\n",
              "      <td>4</td>\n",
              "      <td>Biology</td>\n",
              "      <td>Introduction to Biology</td>\n",
              "    </tr>\n",
              "    <tr>\n",
              "      <th>2</th>\n",
              "      <td>6</td>\n",
              "      <td>Geography</td>\n",
              "      <td>Introduction to Geography</td>\n",
              "    </tr>\n",
              "    <tr>\n",
              "      <th>3</th>\n",
              "      <td>9</td>\n",
              "      <td>Computer Science</td>\n",
              "      <td>Introduction to Computer Science</td>\n",
              "    </tr>\n",
              "  </tbody>\n",
              "</table>\n",
              "</div>\n",
              "    <div class=\"colab-df-buttons\">\n",
              "\n",
              "  <div class=\"colab-df-container\">\n",
              "    <button class=\"colab-df-convert\" onclick=\"convertToInteractive('df-145ae11d-1759-4216-bc0e-bbcf11abe29f')\"\n",
              "            title=\"Convert this dataframe to an interactive table.\"\n",
              "            style=\"display:none;\">\n",
              "\n",
              "  <svg xmlns=\"http://www.w3.org/2000/svg\" height=\"24px\" viewBox=\"0 -960 960 960\">\n",
              "    <path d=\"M120-120v-720h720v720H120Zm60-500h600v-160H180v160Zm220 220h160v-160H400v160Zm0 220h160v-160H400v160ZM180-400h160v-160H180v160Zm440 0h160v-160H620v160ZM180-180h160v-160H180v160Zm440 0h160v-160H620v160Z\"/>\n",
              "  </svg>\n",
              "    </button>\n",
              "\n",
              "  <style>\n",
              "    .colab-df-container {\n",
              "      display:flex;\n",
              "      gap: 12px;\n",
              "    }\n",
              "\n",
              "    .colab-df-convert {\n",
              "      background-color: #E8F0FE;\n",
              "      border: none;\n",
              "      border-radius: 50%;\n",
              "      cursor: pointer;\n",
              "      display: none;\n",
              "      fill: #1967D2;\n",
              "      height: 32px;\n",
              "      padding: 0 0 0 0;\n",
              "      width: 32px;\n",
              "    }\n",
              "\n",
              "    .colab-df-convert:hover {\n",
              "      background-color: #E2EBFA;\n",
              "      box-shadow: 0px 1px 2px rgba(60, 64, 67, 0.3), 0px 1px 3px 1px rgba(60, 64, 67, 0.15);\n",
              "      fill: #174EA6;\n",
              "    }\n",
              "\n",
              "    .colab-df-buttons div {\n",
              "      margin-bottom: 4px;\n",
              "    }\n",
              "\n",
              "    [theme=dark] .colab-df-convert {\n",
              "      background-color: #3B4455;\n",
              "      fill: #D2E3FC;\n",
              "    }\n",
              "\n",
              "    [theme=dark] .colab-df-convert:hover {\n",
              "      background-color: #434B5C;\n",
              "      box-shadow: 0px 1px 3px 1px rgba(0, 0, 0, 0.15);\n",
              "      filter: drop-shadow(0px 1px 2px rgba(0, 0, 0, 0.3));\n",
              "      fill: #FFFFFF;\n",
              "    }\n",
              "  </style>\n",
              "\n",
              "    <script>\n",
              "      const buttonEl =\n",
              "        document.querySelector('#df-145ae11d-1759-4216-bc0e-bbcf11abe29f button.colab-df-convert');\n",
              "      buttonEl.style.display =\n",
              "        google.colab.kernel.accessAllowed ? 'block' : 'none';\n",
              "\n",
              "      async function convertToInteractive(key) {\n",
              "        const element = document.querySelector('#df-145ae11d-1759-4216-bc0e-bbcf11abe29f');\n",
              "        const dataTable =\n",
              "          await google.colab.kernel.invokeFunction('convertToInteractive',\n",
              "                                                    [key], {});\n",
              "        if (!dataTable) return;\n",
              "\n",
              "        const docLinkHtml = 'Like what you see? Visit the ' +\n",
              "          '<a target=\"_blank\" href=https://colab.research.google.com/notebooks/data_table.ipynb>data table notebook</a>'\n",
              "          + ' to learn more about interactive tables.';\n",
              "        element.innerHTML = '';\n",
              "        dataTable['output_type'] = 'display_data';\n",
              "        await google.colab.output.renderOutput(dataTable, element);\n",
              "        const docLink = document.createElement('div');\n",
              "        docLink.innerHTML = docLinkHtml;\n",
              "        element.appendChild(docLink);\n",
              "      }\n",
              "    </script>\n",
              "  </div>\n",
              "\n",
              "\n",
              "<div id=\"df-914d7054-7a0f-46e6-9af3-6daabb6f0c13\">\n",
              "  <button class=\"colab-df-quickchart\" onclick=\"quickchart('df-914d7054-7a0f-46e6-9af3-6daabb6f0c13')\"\n",
              "            title=\"Suggest charts\"\n",
              "            style=\"display:none;\">\n",
              "\n",
              "<svg xmlns=\"http://www.w3.org/2000/svg\" height=\"24px\"viewBox=\"0 0 24 24\"\n",
              "     width=\"24px\">\n",
              "    <g>\n",
              "        <path d=\"M19 3H5c-1.1 0-2 .9-2 2v14c0 1.1.9 2 2 2h14c1.1 0 2-.9 2-2V5c0-1.1-.9-2-2-2zM9 17H7v-7h2v7zm4 0h-2V7h2v10zm4 0h-2v-4h2v4z\"/>\n",
              "    </g>\n",
              "</svg>\n",
              "  </button>\n",
              "\n",
              "<style>\n",
              "  .colab-df-quickchart {\n",
              "      --bg-color: #E8F0FE;\n",
              "      --fill-color: #1967D2;\n",
              "      --hover-bg-color: #E2EBFA;\n",
              "      --hover-fill-color: #174EA6;\n",
              "      --disabled-fill-color: #AAA;\n",
              "      --disabled-bg-color: #DDD;\n",
              "  }\n",
              "\n",
              "  [theme=dark] .colab-df-quickchart {\n",
              "      --bg-color: #3B4455;\n",
              "      --fill-color: #D2E3FC;\n",
              "      --hover-bg-color: #434B5C;\n",
              "      --hover-fill-color: #FFFFFF;\n",
              "      --disabled-bg-color: #3B4455;\n",
              "      --disabled-fill-color: #666;\n",
              "  }\n",
              "\n",
              "  .colab-df-quickchart {\n",
              "    background-color: var(--bg-color);\n",
              "    border: none;\n",
              "    border-radius: 50%;\n",
              "    cursor: pointer;\n",
              "    display: none;\n",
              "    fill: var(--fill-color);\n",
              "    height: 32px;\n",
              "    padding: 0;\n",
              "    width: 32px;\n",
              "  }\n",
              "\n",
              "  .colab-df-quickchart:hover {\n",
              "    background-color: var(--hover-bg-color);\n",
              "    box-shadow: 0 1px 2px rgba(60, 64, 67, 0.3), 0 1px 3px 1px rgba(60, 64, 67, 0.15);\n",
              "    fill: var(--button-hover-fill-color);\n",
              "  }\n",
              "\n",
              "  .colab-df-quickchart-complete:disabled,\n",
              "  .colab-df-quickchart-complete:disabled:hover {\n",
              "    background-color: var(--disabled-bg-color);\n",
              "    fill: var(--disabled-fill-color);\n",
              "    box-shadow: none;\n",
              "  }\n",
              "\n",
              "  .colab-df-spinner {\n",
              "    border: 2px solid var(--fill-color);\n",
              "    border-color: transparent;\n",
              "    border-bottom-color: var(--fill-color);\n",
              "    animation:\n",
              "      spin 1s steps(1) infinite;\n",
              "  }\n",
              "\n",
              "  @keyframes spin {\n",
              "    0% {\n",
              "      border-color: transparent;\n",
              "      border-bottom-color: var(--fill-color);\n",
              "      border-left-color: var(--fill-color);\n",
              "    }\n",
              "    20% {\n",
              "      border-color: transparent;\n",
              "      border-left-color: var(--fill-color);\n",
              "      border-top-color: var(--fill-color);\n",
              "    }\n",
              "    30% {\n",
              "      border-color: transparent;\n",
              "      border-left-color: var(--fill-color);\n",
              "      border-top-color: var(--fill-color);\n",
              "      border-right-color: var(--fill-color);\n",
              "    }\n",
              "    40% {\n",
              "      border-color: transparent;\n",
              "      border-right-color: var(--fill-color);\n",
              "      border-top-color: var(--fill-color);\n",
              "    }\n",
              "    60% {\n",
              "      border-color: transparent;\n",
              "      border-right-color: var(--fill-color);\n",
              "    }\n",
              "    80% {\n",
              "      border-color: transparent;\n",
              "      border-right-color: var(--fill-color);\n",
              "      border-bottom-color: var(--fill-color);\n",
              "    }\n",
              "    90% {\n",
              "      border-color: transparent;\n",
              "      border-bottom-color: var(--fill-color);\n",
              "    }\n",
              "  }\n",
              "</style>\n",
              "\n",
              "  <script>\n",
              "    async function quickchart(key) {\n",
              "      const quickchartButtonEl =\n",
              "        document.querySelector('#' + key + ' button');\n",
              "      quickchartButtonEl.disabled = true;  // To prevent multiple clicks.\n",
              "      quickchartButtonEl.classList.add('colab-df-spinner');\n",
              "      try {\n",
              "        const charts = await google.colab.kernel.invokeFunction(\n",
              "            'suggestCharts', [key], {});\n",
              "      } catch (error) {\n",
              "        console.error('Error during call to suggestCharts:', error);\n",
              "      }\n",
              "      quickchartButtonEl.classList.remove('colab-df-spinner');\n",
              "      quickchartButtonEl.classList.add('colab-df-quickchart-complete');\n",
              "    }\n",
              "    (() => {\n",
              "      let quickchartButtonEl =\n",
              "        document.querySelector('#df-914d7054-7a0f-46e6-9af3-6daabb6f0c13 button');\n",
              "      quickchartButtonEl.style.display =\n",
              "        google.colab.kernel.accessAllowed ? 'block' : 'none';\n",
              "    })();\n",
              "  </script>\n",
              "</div>\n",
              "\n",
              "  <div id=\"id_fb60da24-3445-4df8-8a53-05f07f933b08\">\n",
              "    <style>\n",
              "      .colab-df-generate {\n",
              "        background-color: #E8F0FE;\n",
              "        border: none;\n",
              "        border-radius: 50%;\n",
              "        cursor: pointer;\n",
              "        display: none;\n",
              "        fill: #1967D2;\n",
              "        height: 32px;\n",
              "        padding: 0 0 0 0;\n",
              "        width: 32px;\n",
              "      }\n",
              "\n",
              "      .colab-df-generate:hover {\n",
              "        background-color: #E2EBFA;\n",
              "        box-shadow: 0px 1px 2px rgba(60, 64, 67, 0.3), 0px 1px 3px 1px rgba(60, 64, 67, 0.15);\n",
              "        fill: #174EA6;\n",
              "      }\n",
              "\n",
              "      [theme=dark] .colab-df-generate {\n",
              "        background-color: #3B4455;\n",
              "        fill: #D2E3FC;\n",
              "      }\n",
              "\n",
              "      [theme=dark] .colab-df-generate:hover {\n",
              "        background-color: #434B5C;\n",
              "        box-shadow: 0px 1px 3px 1px rgba(0, 0, 0, 0.15);\n",
              "        filter: drop-shadow(0px 1px 2px rgba(0, 0, 0, 0.3));\n",
              "        fill: #FFFFFF;\n",
              "      }\n",
              "    </style>\n",
              "    <button class=\"colab-df-generate\" onclick=\"generateWithVariable('df')\"\n",
              "            title=\"Generate code using this dataframe.\"\n",
              "            style=\"display:none;\">\n",
              "\n",
              "  <svg xmlns=\"http://www.w3.org/2000/svg\" height=\"24px\"viewBox=\"0 0 24 24\"\n",
              "       width=\"24px\">\n",
              "    <path d=\"M7,19H8.4L18.45,9,17,7.55,7,17.6ZM5,21V16.75L18.45,3.32a2,2,0,0,1,2.83,0l1.4,1.43a1.91,1.91,0,0,1,.58,1.4,1.91,1.91,0,0,1-.58,1.4L9.25,21ZM18.45,9,17,7.55Zm-12,3A5.31,5.31,0,0,0,4.9,8.1,5.31,5.31,0,0,0,1,6.5,5.31,5.31,0,0,0,4.9,4.9,5.31,5.31,0,0,0,6.5,1,5.31,5.31,0,0,0,8.1,4.9,5.31,5.31,0,0,0,12,6.5,5.46,5.46,0,0,0,6.5,12Z\"/>\n",
              "  </svg>\n",
              "    </button>\n",
              "    <script>\n",
              "      (() => {\n",
              "      const buttonEl =\n",
              "        document.querySelector('#id_fb60da24-3445-4df8-8a53-05f07f933b08 button.colab-df-generate');\n",
              "      buttonEl.style.display =\n",
              "        google.colab.kernel.accessAllowed ? 'block' : 'none';\n",
              "\n",
              "      buttonEl.onclick = () => {\n",
              "        google.colab.notebook.generateWithVariable('df');\n",
              "      }\n",
              "      })();\n",
              "    </script>\n",
              "  </div>\n",
              "\n",
              "    </div>\n",
              "  </div>\n"
            ],
            "application/vnd.google.colaboratory.intrinsic+json": {
              "type": "dataframe",
              "variable_name": "df",
              "summary": "{\n  \"name\": \"df\",\n  \"rows\": 4,\n  \"fields\": [\n    {\n      \"column\": \"id\",\n      \"properties\": {\n        \"dtype\": \"number\",\n        \"std\": 2,\n        \"min\": 2,\n        \"max\": 9,\n        \"num_unique_values\": 4,\n        \"samples\": [\n          4,\n          9,\n          2\n        ],\n        \"semantic_type\": \"\",\n        \"description\": \"\"\n      }\n    },\n    {\n      \"column\": \"name\",\n      \"properties\": {\n        \"dtype\": \"string\",\n        \"num_unique_values\": 4,\n        \"samples\": [\n          \"Biology\",\n          \"Computer Science\",\n          \"Physics\"\n        ],\n        \"semantic_type\": \"\",\n        \"description\": \"\"\n      }\n    },\n    {\n      \"column\": \"description\",\n      \"properties\": {\n        \"dtype\": \"string\",\n        \"num_unique_values\": 4,\n        \"samples\": [\n          \"Introduction to Biology\",\n          \"Introduction to Computer Science\",\n          \"Introduction to Physics\"\n        ],\n        \"semantic_type\": \"\",\n        \"description\": \"\"\n      }\n    }\n  ]\n}"
            }
          },
          "metadata": {},
          "execution_count": 29
        }
      ]
    },
    {
      "cell_type": "code",
      "source": [
        "%%writefile app.py\n",
        "\n",
        "import os\n",
        "import requests\n",
        "import hashlib\n",
        "import pandas as pd\n",
        "import streamlit as st\n",
        "from concurrent.futures import ThreadPoolExecutor\n",
        "from langchain_community.llms import LlamaCpp\n",
        "from langchain.prompts.prompt import PromptTemplate\n",
        "from langchain.sql_database import SQLDatabase\n",
        "from sqlalchemy import create_engine\n",
        "import logging\n",
        "\n",
        "logging.basicConfig(level=logging.ERROR)  # Set logging level\n",
        "\n",
        "def calculate_md5(file_path):\n",
        "    \"\"\"Calculates the MD5 hash of a file.\"\"\"\n",
        "    hash_md5 = hashlib.md5()\n",
        "    with open(file_path, \"rb\") as f:\n",
        "        for chunk in iter(lambda: f.read(4096), b\"\"):\n",
        "            hash_md5.update(chunk)\n",
        "    return hash_md5.hexdigest()\n",
        "\n",
        "def download_file(url, filename, expected_md5):\n",
        "    \"\"\"Downloads a file and verifies its integrity.\"\"\"\n",
        "    try:\n",
        "        response = requests.get(url, stream=True)\n",
        "        if response.status_code == 200:\n",
        "            with open(filename, 'wb') as f:\n",
        "                for chunk in response.iter_content(chunk_size=1024):\n",
        "                    if chunk:\n",
        "                        f.write(chunk)\n",
        "\n",
        "            if calculate_md5(filename) != expected_md5:\n",
        "                st.error(\"Downloaded file is corrupted. Please try again.\")\n",
        "                os.remove(filename)\n",
        "            else:\n",
        "                st.success(\"Download complete and verified!\")\n",
        "        else:\n",
        "            st.error(f\"Failed to download file: {response.status_code}\")\n",
        "    except Exception as e:\n",
        "        st.error(f\"Error downloading file: {e}\")\n",
        "\n",
        "@st.cache_resource(ttl=3600)  # Cache the model for an hour\n",
        "def load_model(model_file):\n",
        "    \"\"\"Loads the LlamaCpp model, ensuring it's a valid .gguf file.\"\"\"\n",
        "    try:\n",
        "        if not model_file.endswith(\".gguf\"):\n",
        "            st.error(\"Invalid model file format. Please provide a .gguf file.\")\n",
        "            return None\n",
        "\n",
        "        client = LlamaCpp(model_path=model_file, temperature=0)\n",
        "        return client\n",
        "    except Exception as e:\n",
        "        st.error(f\"Error loading model: {e}\")\n",
        "        return None\n",
        "\n",
        "def get_database():\n",
        "    try:\n",
        "        db_path = \"sqlite:///example.db\"\n",
        "        db = SQLDatabase.from_uri(database_uri=db_path)\n",
        "        db._sample_rows_in_table_info = 0\n",
        "        engine = create_engine(db_path)\n",
        "        return db, engine\n",
        "    except Exception as e:\n",
        "        st.error(f\"Error connecting to database: {e}\")\n",
        "        return None, None\n",
        "\n",
        "def main():\n",
        "    st.title(\"SQL Query Interface\")\n",
        "\n",
        "    # User guide\n",
        "    with st.expander(\"User Guide\"):\n",
        "        st.write(\"\"\"\n",
        "        This interface allows you to query an SQL database using natural language.\n",
        "        - Enter your query in the input box and press 'Query' to get the results.\n",
        "        - The tables and their first 5 rows are displayed upon loading the page.\n",
        "        \"\"\")\n",
        "\n",
        "    # Retrieve database and engine\n",
        "    db, engine = get_database()\n",
        "\n",
        "    if db and engine:\n",
        "        # Display tables and contents upon page load\n",
        "        table_names = db.get_table_names()\n",
        "        if table_names:\n",
        "            st.write(\"Tables:\")\n",
        "            tabs = st.tabs(table_names)\n",
        "            for tab, table_name in zip(tabs, table_names):\n",
        "                with tab:\n",
        "                    st.write(f\"Table: {table_name}\")\n",
        "                    query = f\"SELECT * FROM {table_name} LIMIT 5\"  # Limit to 5 rows for display\n",
        "                    try:\n",
        "                        with engine.connect() as connection:\n",
        "                            df = pd.read_sql_query(query, connection)\n",
        "                        st.write(df)\n",
        "                    except Exception as e:\n",
        "                        st.error(f\"Error retrieving data from {table_name}: {e}\")\n",
        "        else:\n",
        "            st.write(\"No tables found in the database.\")\n",
        "\n",
        "        question = st.text_area(\"Enter your query:\", value=\"Courses containing Introduction\")\n",
        "        if st.button(\"Query\"):\n",
        "            model_file = \"phi-3-sql.Q4_K_M.gguf\"\n",
        "            model_url = \"https://huggingface.co/omeryentur/phi-3-sql/blob/main/phi-3-sql.Q4_K_M.gguf\"\n",
        "            expected_md5 = \"d41d8cd98f00b204e9800998ecf8427e\"  # Replace with the actual MD5 hash of the model file\n",
        "\n",
        "            # Download the model file if it doesn't exist\n",
        "            if not os.path.exists(model_file):\n",
        "                st.write(f\"Downloading {model_file}...\")\n",
        "                download_file(model_url, model_file, expected_md5)\n",
        "\n",
        "            # Load the model\n",
        "            client = load_model(model_file)\n",
        "            if client:\n",
        "                # Retrieve table info\n",
        "                table_info = db.get_table_info()\n",
        "\n",
        "                # Define the SQL prompt template\n",
        "                template=\"\"\"\n",
        "                <|system|>\n",
        "                {table_info}\n",
        "\n",
        "                <|user|>\n",
        "                {question}\n",
        "                <|sql|>\n",
        "                \"\"\"\n",
        "\n",
        "                # Create the prompt with the query\n",
        "                prompt = PromptTemplate.from_template(template)\n",
        "                prompt_text = prompt.format(table_info=table_info, question=question)\n",
        "\n",
        "                try:\n",
        "                    # Get SQL query from LLM\n",
        "                    res = client(prompt_text)\n",
        "                    sql_query = res.strip()\n",
        "                    print(prompt_text)\n",
        "                    with engine.connect() as connection:\n",
        "                        df = pd.read_sql_query(sql_query, connection)\n",
        "\n",
        "                    st.write(f\"SQL Query: {sql_query}\")\n",
        "                    st.write(\"Result:\")\n",
        "                    st.write(df)\n",
        "                except Exception as e:\n",
        "                    st.error(f\"Error executing query: {e}\")\n",
        "        else:\n",
        "            st.write(\"Please enter your query and press 'Query' to get results.\")\n",
        "\n",
        "        # Add New Data to Database section\n",
        "        st.subheader(\"Add New Data to Database\")\n",
        "        new_data = st.text_area(\"Enter new data (SQL INSERT statement):\", \"\")\n",
        "        if st.button(\"Add Data\"):\n",
        "            if new_data.strip():\n",
        "                try:\n",
        "                    with engine.connect() as connection:\n",
        "                        connection.execute(new_data)\n",
        "                    st.success(\"Data added successfully!\")\n",
        "                except Exception as e:\n",
        "                    st.error(f\"Error adding data: {e}\")\n",
        "            else:\n",
        "                st.warning(\"Please enter a valid SQL INSERT statement.\")\n",
        "\n",
        "    else:\n",
        "        st.error(\"Database connection not established.\")\n",
        "\n",
        "    # Button to clear cache\n",
        "    if st.button(\"Clear Cache\"):\n",
        "        st.cache_data.clear()\n",
        "        st.cache_resource.clear()\n",
        "        st.success(\"Cache cleared!\")\n",
        "\n",
        "if __name__ == \"__main__\":\n",
        "    main()"
      ],
      "metadata": {
        "colab": {
          "base_uri": "https://localhost:8080/"
        },
        "id": "gar5X8a3pRck",
        "outputId": "ae5e557c-04db-43c3-a931-6b83857fefbc"
      },
      "execution_count": 34,
      "outputs": [
        {
          "output_type": "stream",
          "name": "stdout",
          "text": [
            "Overwriting app.py\n"
          ]
        }
      ]
    },
    {
      "cell_type": "code",
      "source": [
        "!streamlit run /content/app.py &>/content/logs.txt & npx localtunnel --port 8501 & curl ipv4.icanhazip.com"
      ],
      "metadata": {
        "id": "El19JE2tpc2F"
      },
      "execution_count": null,
      "outputs": []
    }
  ]
}