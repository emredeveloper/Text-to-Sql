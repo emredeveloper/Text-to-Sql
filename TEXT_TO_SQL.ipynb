{
  "nbformat": 4,
  "nbformat_minor": 0,
  "metadata": {
    "colab": {
      "provenance": [],
      "gpuType": "T4",
      "authorship_tag": "ABX9TyNjFtyV9RgFmv2pmIb4YuL5"
    },
    "kernelspec": {
      "name": "python3",
      "display_name": "Python 3"
    },
    "language_info": {
      "name": "python"
    },
    "accelerator": "GPU"
  },
  "cells": [
    {
      "cell_type": "code",
      "execution_count": 2,
      "metadata": {
        "colab": {
          "base_uri": "https://localhost:8080/"
        },
        "id": "uJ-7nv3FtA9a",
        "outputId": "11fec729-e0a2-4ba4-b62d-dfaec95c78c4"
      },
      "outputs": [
        {
          "output_type": "stream",
          "name": "stdout",
          "text": [
            "--2024-06-20 08:15:50--  https://huggingface.co/omeryentur/phi-3-sql/resolve/main/phi-3-sql.Q4_K_M.gguf\n",
            "Resolving huggingface.co (huggingface.co)... 3.163.189.90, 3.163.189.74, 3.163.189.114, ...\n",
            "Connecting to huggingface.co (huggingface.co)|3.163.189.90|:443... connected.\n",
            "HTTP request sent, awaiting response... 302 Found\n",
            "Location: https://cdn-lfs-us-1.huggingface.co/repos/56/6f/566fbe9d66384fd0ddaf4103740612ffa7c8223f34c3c98513c1437cabbb29d2/622694786f2d047424df9084cd03d9146c7a538f8320c9938a4d7a8da98adf2d?response-content-disposition=inline%3B+filename*%3DUTF-8%27%27phi-3-sql.Q4_K_M.gguf%3B+filename%3D%22phi-3-sql.Q4_K_M.gguf%22%3B&Expires=1719130550&Policy=eyJTdGF0ZW1lbnQiOlt7IkNvbmRpdGlvbiI6eyJEYXRlTGVzc1RoYW4iOnsiQVdTOkVwb2NoVGltZSI6MTcxOTEzMDU1MH19LCJSZXNvdXJjZSI6Imh0dHBzOi8vY2RuLWxmcy11cy0xLmh1Z2dpbmdmYWNlLmNvL3JlcG9zLzU2LzZmLzU2NmZiZTlkNjYzODRmZDBkZGFmNDEwMzc0MDYxMmZmYTdjODIyM2YzNGMzYzk4NTEzYzE0MzdjYWJiYjI5ZDIvNjIyNjk0Nzg2ZjJkMDQ3NDI0ZGY5MDg0Y2QwM2Q5MTQ2YzdhNTM4ZjgzMjBjOTkzOGE0ZDdhOGRhOThhZGYyZD9yZXNwb25zZS1jb250ZW50LWRpc3Bvc2l0aW9uPSoifV19&Signature=Z3wAMvyCTubOaj8JgiVekgkGXb3b1eNRoJMloRdDqfndiGhG2QlO7JpWvYcmUPqrdaZQ9ML47lzhdewbBCiOh1jLFNK0%7EptifMkS4QPi1X%7EIqeSx6kBFi8KZxptdlclNG8NuANTiVtZVoDZTJ0cZd%7EfFg9Qn%7ELAVgTLLMRx%7ET9pWMWH82i83AbFT2NQwLiqaZQZ3sX14rxJJUhe6dtaLxYkPusWL4vOjc7akcvITPWMUcyHcfw8330GVMXi4Co4W29J4IfBmY6XKEg4pWSIfU6QNoKqKtb41-XdIEhU8hZCZ0vTYnHXmN27KsMCBtmqA%7EmE78UsgO6FKop14tgBYuA__&Key-Pair-Id=K2FPYV99P2N66Q [following]\n",
            "--2024-06-20 08:15:50--  https://cdn-lfs-us-1.huggingface.co/repos/56/6f/566fbe9d66384fd0ddaf4103740612ffa7c8223f34c3c98513c1437cabbb29d2/622694786f2d047424df9084cd03d9146c7a538f8320c9938a4d7a8da98adf2d?response-content-disposition=inline%3B+filename*%3DUTF-8%27%27phi-3-sql.Q4_K_M.gguf%3B+filename%3D%22phi-3-sql.Q4_K_M.gguf%22%3B&Expires=1719130550&Policy=eyJTdGF0ZW1lbnQiOlt7IkNvbmRpdGlvbiI6eyJEYXRlTGVzc1RoYW4iOnsiQVdTOkVwb2NoVGltZSI6MTcxOTEzMDU1MH19LCJSZXNvdXJjZSI6Imh0dHBzOi8vY2RuLWxmcy11cy0xLmh1Z2dpbmdmYWNlLmNvL3JlcG9zLzU2LzZmLzU2NmZiZTlkNjYzODRmZDBkZGFmNDEwMzc0MDYxMmZmYTdjODIyM2YzNGMzYzk4NTEzYzE0MzdjYWJiYjI5ZDIvNjIyNjk0Nzg2ZjJkMDQ3NDI0ZGY5MDg0Y2QwM2Q5MTQ2YzdhNTM4ZjgzMjBjOTkzOGE0ZDdhOGRhOThhZGYyZD9yZXNwb25zZS1jb250ZW50LWRpc3Bvc2l0aW9uPSoifV19&Signature=Z3wAMvyCTubOaj8JgiVekgkGXb3b1eNRoJMloRdDqfndiGhG2QlO7JpWvYcmUPqrdaZQ9ML47lzhdewbBCiOh1jLFNK0%7EptifMkS4QPi1X%7EIqeSx6kBFi8KZxptdlclNG8NuANTiVtZVoDZTJ0cZd%7EfFg9Qn%7ELAVgTLLMRx%7ET9pWMWH82i83AbFT2NQwLiqaZQZ3sX14rxJJUhe6dtaLxYkPusWL4vOjc7akcvITPWMUcyHcfw8330GVMXi4Co4W29J4IfBmY6XKEg4pWSIfU6QNoKqKtb41-XdIEhU8hZCZ0vTYnHXmN27KsMCBtmqA%7EmE78UsgO6FKop14tgBYuA__&Key-Pair-Id=K2FPYV99P2N66Q\n",
            "Resolving cdn-lfs-us-1.huggingface.co (cdn-lfs-us-1.huggingface.co)... 3.163.189.91, 3.163.189.20, 3.163.189.28, ...\n",
            "Connecting to cdn-lfs-us-1.huggingface.co (cdn-lfs-us-1.huggingface.co)|3.163.189.91|:443... connected.\n",
            "HTTP request sent, awaiting response... 200 OK\n",
            "Length: 2318919104 (2.2G) [binary/octet-stream]\n",
            "Saving to: ‘phi-3-sql.Q4_K_M.gguf’\n",
            "\n",
            "phi-3-sql.Q4_K_M.gg 100%[===================>]   2.16G   246MB/s    in 12s     \n",
            "\n",
            "2024-06-20 08:16:02 (191 MB/s) - ‘phi-3-sql.Q4_K_M.gguf’ saved [2318919104/2318919104]\n",
            "\n"
          ]
        }
      ],
      "source": [
        "!wget https://huggingface.co/omeryentur/phi-3-sql/resolve/main/phi-3-sql.Q4_K_M.gguf"
      ]
    },
    {
      "cell_type": "code",
      "source": [
        "!pip install --upgrade --quiet  transformers --quiet"
      ],
      "metadata": {
        "id": "6iZuGNrdtFle"
      },
      "execution_count": 26,
      "outputs": []
    },
    {
      "cell_type": "code",
      "source": [
        "from langchain_community.llms import LlamaCpp\n"
      ],
      "metadata": {
        "id": "exUancbpuZk_"
      },
      "execution_count": 4,
      "outputs": []
    },
    {
      "cell_type": "code",
      "source": [
        "client=LlamaCpp(model_path=\"/content/phi-3-sql.Q4_K_M.gguf\")"
      ],
      "metadata": {
        "colab": {
          "base_uri": "https://localhost:8080/"
        },
        "id": "V3Yw0uAyucNf",
        "outputId": "9e3ba8aa-f2db-432b-f579-bb3d4d4c6d46"
      },
      "execution_count": 5,
      "outputs": [
        {
          "output_type": "stream",
          "name": "stderr",
          "text": [
            "llama_model_loader: loaded meta data with 25 key-value pairs and 291 tensors from /content/phi-3-sql.Q4_K_M.gguf (version GGUF V3 (latest))\n",
            "llama_model_loader: Dumping metadata keys/values. Note: KV overrides do not apply in this output.\n",
            "llama_model_loader: - kv   0:                       general.architecture str              = llama\n",
            "llama_model_loader: - kv   1:                               general.name str              = phi-3-sql\n",
            "llama_model_loader: - kv   2:                           llama.vocab_size u32              = 32064\n",
            "llama_model_loader: - kv   3:                       llama.context_length u32              = 4096\n",
            "llama_model_loader: - kv   4:                     llama.embedding_length u32              = 3072\n",
            "llama_model_loader: - kv   5:                          llama.block_count u32              = 32\n",
            "llama_model_loader: - kv   6:                  llama.feed_forward_length u32              = 8192\n",
            "llama_model_loader: - kv   7:                 llama.rope.dimension_count u32              = 96\n",
            "llama_model_loader: - kv   8:                 llama.attention.head_count u32              = 32\n",
            "llama_model_loader: - kv   9:              llama.attention.head_count_kv u32              = 32\n",
            "llama_model_loader: - kv  10:     llama.attention.layer_norm_rms_epsilon f32              = 0.000010\n",
            "llama_model_loader: - kv  11:                       llama.rope.freq_base f32              = 10000.000000\n",
            "llama_model_loader: - kv  12:                          general.file_type u32              = 15\n",
            "llama_model_loader: - kv  13:                       tokenizer.ggml.model str              = llama\n",
            "llama_model_loader: - kv  14:                      tokenizer.ggml.tokens arr[str,32064]   = [\"<unk>\", \"<s>\", \"</s>\", \"<0x00>\", \"<...\n",
            "llama_model_loader: - kv  15:                      tokenizer.ggml.scores arr[f32,32064]   = [0.000000, 0.000000, 0.000000, 0.0000...\n",
            "llama_model_loader: - kv  16:                  tokenizer.ggml.token_type arr[i32,32064]   = [2, 3, 3, 6, 6, 6, 6, 6, 6, 6, 6, 6, ...\n",
            "llama_model_loader: - kv  17:                tokenizer.ggml.bos_token_id u32              = 1\n",
            "llama_model_loader: - kv  18:                tokenizer.ggml.eos_token_id u32              = 32000\n",
            "llama_model_loader: - kv  19:            tokenizer.ggml.unknown_token_id u32              = 0\n",
            "llama_model_loader: - kv  20:            tokenizer.ggml.padding_token_id u32              = 32009\n",
            "llama_model_loader: - kv  21:               tokenizer.ggml.add_bos_token bool             = true\n",
            "llama_model_loader: - kv  22:               tokenizer.ggml.add_eos_token bool             = false\n",
            "llama_model_loader: - kv  23:                    tokenizer.chat_template str              = {{ bos_token }}{% for message in mess...\n",
            "llama_model_loader: - kv  24:               general.quantization_version u32              = 2\n",
            "llama_model_loader: - type  f32:   65 tensors\n",
            "llama_model_loader: - type q4_K:  193 tensors\n",
            "llama_model_loader: - type q6_K:   33 tensors\n",
            "llm_load_vocab: special tokens cache size = 312\n",
            "llm_load_vocab: token to piece cache size = 0.1691 MB\n",
            "llm_load_print_meta: format           = GGUF V3 (latest)\n",
            "llm_load_print_meta: arch             = llama\n",
            "llm_load_print_meta: vocab type       = SPM\n",
            "llm_load_print_meta: n_vocab          = 32064\n",
            "llm_load_print_meta: n_merges         = 0\n",
            "llm_load_print_meta: n_ctx_train      = 4096\n",
            "llm_load_print_meta: n_embd           = 3072\n",
            "llm_load_print_meta: n_head           = 32\n",
            "llm_load_print_meta: n_head_kv        = 32\n",
            "llm_load_print_meta: n_layer          = 32\n",
            "llm_load_print_meta: n_rot            = 96\n",
            "llm_load_print_meta: n_embd_head_k    = 96\n",
            "llm_load_print_meta: n_embd_head_v    = 96\n",
            "llm_load_print_meta: n_gqa            = 1\n",
            "llm_load_print_meta: n_embd_k_gqa     = 3072\n",
            "llm_load_print_meta: n_embd_v_gqa     = 3072\n",
            "llm_load_print_meta: f_norm_eps       = 0.0e+00\n",
            "llm_load_print_meta: f_norm_rms_eps   = 1.0e-05\n",
            "llm_load_print_meta: f_clamp_kqv      = 0.0e+00\n",
            "llm_load_print_meta: f_max_alibi_bias = 0.0e+00\n",
            "llm_load_print_meta: f_logit_scale    = 0.0e+00\n",
            "llm_load_print_meta: n_ff             = 8192\n",
            "llm_load_print_meta: n_expert         = 0\n",
            "llm_load_print_meta: n_expert_used    = 0\n",
            "llm_load_print_meta: causal attn      = 1\n",
            "llm_load_print_meta: pooling type     = 0\n",
            "llm_load_print_meta: rope type        = 0\n",
            "llm_load_print_meta: rope scaling     = linear\n",
            "llm_load_print_meta: freq_base_train  = 10000.0\n",
            "llm_load_print_meta: freq_scale_train = 1\n",
            "llm_load_print_meta: n_ctx_orig_yarn  = 4096\n",
            "llm_load_print_meta: rope_finetuned   = unknown\n",
            "llm_load_print_meta: ssm_d_conv       = 0\n",
            "llm_load_print_meta: ssm_d_inner      = 0\n",
            "llm_load_print_meta: ssm_d_state      = 0\n",
            "llm_load_print_meta: ssm_dt_rank      = 0\n",
            "llm_load_print_meta: model type       = 7B\n",
            "llm_load_print_meta: model ftype      = Q4_K - Medium\n",
            "llm_load_print_meta: model params     = 3.82 B\n",
            "llm_load_print_meta: model size       = 2.16 GiB (4.85 BPW) \n",
            "llm_load_print_meta: general.name     = phi-3-sql\n",
            "llm_load_print_meta: BOS token        = 1 '<s>'\n",
            "llm_load_print_meta: EOS token        = 32000 '<|endoftext|>'\n",
            "llm_load_print_meta: UNK token        = 0 '<unk>'\n",
            "llm_load_print_meta: PAD token        = 32009 '<|placeholder6|>'\n",
            "llm_load_print_meta: LF token         = 13 '<0x0A>'\n",
            "llm_load_print_meta: EOT token        = 32007 '<|end|>'\n",
            "llm_load_tensors: ggml ctx size =    0.15 MiB\n",
            "llm_load_tensors:        CPU buffer size =  2210.78 MiB\n",
            ".................................................................................................\n",
            "llama_new_context_with_model: n_batch is less than GGML_KQ_MASK_PAD - increasing to 32\n",
            "llama_new_context_with_model: n_ctx      = 512\n",
            "llama_new_context_with_model: n_batch    = 32\n",
            "llama_new_context_with_model: n_ubatch   = 32\n",
            "llama_new_context_with_model: flash_attn = 0\n",
            "llama_new_context_with_model: freq_base  = 10000.0\n",
            "llama_new_context_with_model: freq_scale = 1\n",
            "llama_kv_cache_init:        CPU KV buffer size =   192.00 MiB\n",
            "llama_new_context_with_model: KV self size  =  192.00 MiB, K (f16):   96.00 MiB, V (f16):   96.00 MiB\n",
            "llama_new_context_with_model:        CPU  output buffer size =     0.12 MiB\n",
            "llama_new_context_with_model:        CPU compute buffer size =     4.29 MiB\n",
            "llama_new_context_with_model: graph nodes  = 1030\n",
            "llama_new_context_with_model: graph splits = 1\n",
            "AVX = 1 | AVX_VNNI = 0 | AVX2 = 1 | AVX512 = 0 | AVX512_VBMI = 0 | AVX512_VNNI = 0 | AVX512_BF16 = 0 | FMA = 1 | NEON = 0 | SVE = 0 | ARM_FMA = 0 | F16C = 1 | FP16_VA = 0 | WASM_SIMD = 0 | BLAS = 0 | SSE3 = 1 | SSSE3 = 1 | VSX = 0 | MATMUL_INT8 = 0 | LLAMAFILE = 1 | \n",
            "Model metadata: {'tokenizer.chat_template': \"{{ bos_token }}{% for message in messages %}{% if (message['role'] == 'user') %}{{'<|user|>' + '\\n' + message['content'] + '<|end|>' + '\\n' + '<|assistant|>' + '\\n'}}{% elif (message['role'] == 'assistant') %}{{message['content'] + '<|end|>' + '\\n'}}{% endif %}{% endfor %}\", 'tokenizer.ggml.add_eos_token': 'false', 'tokenizer.ggml.padding_token_id': '32009', 'tokenizer.ggml.unknown_token_id': '0', 'tokenizer.ggml.eos_token_id': '32000', 'general.quantization_version': '2', 'tokenizer.ggml.model': 'llama', 'general.architecture': 'llama', 'llama.rope.freq_base': '10000.000000', 'llama.context_length': '4096', 'general.name': 'phi-3-sql', 'llama.vocab_size': '32064', 'general.file_type': '15', 'tokenizer.ggml.add_bos_token': 'true', 'llama.embedding_length': '3072', 'llama.feed_forward_length': '8192', 'llama.attention.layer_norm_rms_epsilon': '0.000010', 'llama.rope.dimension_count': '96', 'tokenizer.ggml.bos_token_id': '1', 'llama.attention.head_count': '32', 'llama.block_count': '32', 'llama.attention.head_count_kv': '32'}\n",
            "Available chat formats from metadata: chat_template.default\n",
            "Using gguf chat template: {{ bos_token }}{% for message in messages %}{% if (message['role'] == 'user') %}{{'<|user|>' + '\n",
            "' + message['content'] + '<|end|>' + '\n",
            "' + '<|assistant|>' + '\n",
            "'}}{% elif (message['role'] == 'assistant') %}{{message['content'] + '<|end|>' + '\n",
            "'}}{% endif %}{% endfor %}\n",
            "Using chat eos_token: <|endoftext|>\n",
            "Using chat bos_token: <s>\n"
          ]
        }
      ]
    },
    {
      "cell_type": "code",
      "source": [
        "from langchain.prompts.prompt import PromptTemplate\n"
      ],
      "metadata": {
        "id": "khn_tp3uugU4"
      },
      "execution_count": 6,
      "outputs": []
    },
    {
      "cell_type": "code",
      "source": [
        "from langchain.sql_database import SQLDatabase\n"
      ],
      "metadata": {
        "id": "os0GVRkNuis3"
      },
      "execution_count": 7,
      "outputs": []
    },
    {
      "cell_type": "code",
      "source": [
        "db_path=\"sqlite:///example.db\"\n",
        "db=SQLDatabase.from_uri(database_uri=db_path)"
      ],
      "metadata": {
        "id": "_TvaiplBuki4"
      },
      "execution_count": 10,
      "outputs": []
    },
    {
      "cell_type": "code",
      "source": [
        "db.get_table_names()"
      ],
      "metadata": {
        "colab": {
          "base_uri": "https://localhost:8080/"
        },
        "id": "1HFC8v4Yuyg7",
        "outputId": "5d1002d8-5139-4121-8a94-caaef6269311"
      },
      "execution_count": 11,
      "outputs": [
        {
          "output_type": "stream",
          "name": "stderr",
          "text": [
            "/usr/local/lib/python3.10/dist-packages/langchain_core/_api/deprecation.py:139: LangChainDeprecationWarning: The method `SQLDatabase.get_table_names` was deprecated in langchain-community 0.0.1 and will be removed in 0.3.0. Use get_usable_table_names instead.\n",
            "  warn_deprecated(\n"
          ]
        },
        {
          "output_type": "execute_result",
          "data": {
            "text/plain": [
              "['courses', 'students']"
            ]
          },
          "metadata": {},
          "execution_count": 11
        }
      ]
    },
    {
      "cell_type": "code",
      "source": [
        "db._sample_rows_in_table_info=0"
      ],
      "metadata": {
        "id": "d9CUeX7Ou19C"
      },
      "execution_count": 12,
      "outputs": []
    },
    {
      "cell_type": "code",
      "source": [
        "table_info=db.get_table_info()\n",
        "table_info"
      ],
      "metadata": {
        "colab": {
          "base_uri": "https://localhost:8080/",
          "height": 53
        },
        "id": "L-C1sSg8u327",
        "outputId": "1e8ca01e-83a1-4271-a13b-1a2b49a34963"
      },
      "execution_count": 14,
      "outputs": [
        {
          "output_type": "execute_result",
          "data": {
            "text/plain": [
              "'\\nCREATE TABLE courses (\\n\\tid INTEGER, \\n\\tname TEXT NOT NULL, \\n\\tdescription TEXT, \\n\\tPRIMARY KEY (id)\\n)\\n\\n\\nCREATE TABLE students (\\n\\tid INTEGER, \\n\\tname TEXT NOT NULL, \\n\\tage INTEGER NOT NULL, \\n\\tPRIMARY KEY (id)\\n)'"
            ],
            "application/vnd.google.colaboratory.intrinsic+json": {
              "type": "string"
            }
          },
          "metadata": {},
          "execution_count": 14
        }
      ]
    },
    {
      "cell_type": "code",
      "source": [
        "template=\"\"\"\n",
        "<|system|>\n",
        "{table_info}\n",
        "\n",
        "<|user|>\n",
        "{question}\n",
        "<|sql|>\n",
        "\"\"\"\n"
      ],
      "metadata": {
        "id": "MRrGiKxeu70U"
      },
      "execution_count": 15,
      "outputs": []
    },
    {
      "cell_type": "code",
      "source": [
        "from langchain.schema import HumanMessage\n"
      ],
      "metadata": {
        "id": "_YllGWEiu6Cz"
      },
      "execution_count": 16,
      "outputs": []
    },
    {
      "cell_type": "code",
      "source": [
        "question=\"Courses containing Introduction\"\n",
        "\n",
        "prompt=PromptTemplate.from_template(template)\n",
        "\n"
      ],
      "metadata": {
        "id": "uhPagnzpu-_0"
      },
      "execution_count": 22,
      "outputs": []
    },
    {
      "cell_type": "code",
      "source": [
        "res=client(prompt.format(table_info=table_info,question=question))"
      ],
      "metadata": {
        "colab": {
          "base_uri": "https://localhost:8080/"
        },
        "id": "1QT2yT7SvT3H",
        "outputId": "e4deb944-fba1-4eaf-aa7b-8ed76060a0ec"
      },
      "execution_count": 23,
      "outputs": [
        {
          "output_type": "stream",
          "name": "stderr",
          "text": [
            "Llama.generate: prefix-match hit\n",
            "\n",
            "llama_print_timings:        load time =    1442.77 ms\n",
            "llama_print_timings:      sample time =       8.83 ms /    17 runs   (    0.52 ms per token,  1925.91 tokens per second)\n",
            "llama_print_timings: prompt eval time =    2149.32 ms /    11 tokens (  195.39 ms per token,     5.12 tokens per second)\n",
            "llama_print_timings:        eval time =    5708.12 ms /    16 runs   (  356.76 ms per token,     2.80 tokens per second)\n",
            "llama_print_timings:       total time =    7880.77 ms /    27 tokens\n"
          ]
        }
      ]
    },
    {
      "cell_type": "code",
      "source": [
        "sql_query=res\n",
        "sql_query"
      ],
      "metadata": {
        "colab": {
          "base_uri": "https://localhost:8080/",
          "height": 35
        },
        "id": "mVTfNbHUvZ05",
        "outputId": "210cf720-a659-4f56-9b3a-b4f7a6f5f7f7"
      },
      "execution_count": 24,
      "outputs": [
        {
          "output_type": "execute_result",
          "data": {
            "text/plain": [
              "'SELECT * FROM \"courses\" WHERE \"description\" LIKE \\'%Introduction%\\'\\n'"
            ],
            "application/vnd.google.colaboratory.intrinsic+json": {
              "type": "string"
            }
          },
          "metadata": {},
          "execution_count": 24
        }
      ]
    },
    {
      "cell_type": "code",
      "source": [
        "db.run(sql_query)"
      ],
      "metadata": {
        "colab": {
          "base_uri": "https://localhost:8080/",
          "height": 53
        },
        "id": "8dTv0E_2vlgR",
        "outputId": "55bfe8dd-427d-443f-bcbf-42455694493b"
      },
      "execution_count": 25,
      "outputs": [
        {
          "output_type": "execute_result",
          "data": {
            "text/plain": [
              "\"[(2, 'Physics', 'Introduction to Physics'), (4, 'Biology', 'Introduction to Biology'), (6, 'Geography', 'Introduction to Geography'), (9, 'Computer Science', 'Introduction to Computer Science')]\""
            ],
            "application/vnd.google.colaboratory.intrinsic+json": {
              "type": "string"
            }
          },
          "metadata": {},
          "execution_count": 25
        }
      ]
    },
    {
      "cell_type": "code",
      "source": [
        "from langchain_huggingface.llms import HuggingFacePipeline\n",
        "from transformers import AutoModelForCausalLM, AutoTokenizer, pipeline"
      ],
      "metadata": {
        "id": "svjySGXfwu0K"
      },
      "execution_count": 30,
      "outputs": []
    },
    {
      "cell_type": "code",
      "source": [
        "from langchain_core.prompts import PromptTemplate\n",
        "\n",
        "template = \"\"\"Question: {question}\n",
        "\n",
        "Answer: Let's think step by step.\"\"\"\n",
        "prompt = PromptTemplate.from_template(template)"
      ],
      "metadata": {
        "id": "MB8WXPTmxt-z"
      },
      "execution_count": 32,
      "outputs": []
    },
    {
      "cell_type": "code",
      "source": [
        "gpu_llm = HuggingFacePipeline.from_model_id(\n",
        "    model_id=\"gpt2\",\n",
        "    task=\"text-generation\",\n",
        "    device=0,  # replace with device_map=\"auto\" to use the accelerate library.\n",
        "    pipeline_kwargs={\"max_new_tokens\": 100},\n",
        ")\n",
        "\n",
        "gpu_chain = prompt | gpu_llm\n",
        "\n",
        "question = \"What is electroencephalography?\"\n",
        "\n",
        "print(gpu_chain.invoke({\"question\": question}))"
      ],
      "metadata": {
        "colab": {
          "base_uri": "https://localhost:8080/"
        },
        "id": "uOrVaPa7wqsK",
        "outputId": "f6f123d7-fef0-47c7-f2ae-a6bcc45a80b2"
      },
      "execution_count": 34,
      "outputs": [
        {
          "output_type": "stream",
          "name": "stdout",
          "text": [
            "Question: What is electroencephalography?\n",
            "\n",
            "Answer: Let's think step by step. One of the most interesting parts of the study is identifying the time at which EEG signals are produced at a particular moment. Each time an electrode is added to a brain, it will pass time between the added electrodes. I've been working on the subject of EEG for some years now, and an EEG comes into play in a lot of clinical settings. My approach to studying EEG signals over the course of a year is to use visual analogues for the whole EEG field. In a sense, we are\n"
          ]
        }
      ]
    }
  ]
}