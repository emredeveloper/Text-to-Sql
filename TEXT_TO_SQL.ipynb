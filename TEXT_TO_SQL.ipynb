{
  "nbformat": 4,
  "nbformat_minor": 0,
  "metadata": {
    "colab": {
      "provenance": [],
      "gpuType": "T4",
      "authorship_tag": "ABX9TyM2AGclqJlZTm+SdAHIZP0m"
    },
    "kernelspec": {
      "name": "python3",
      "display_name": "Python 3"
    },
    "language_info": {
      "name": "python"
    },
    "accelerator": "GPU"
  },
  "cells": [
    {
      "cell_type": "code",
      "execution_count": null,
      "metadata": {
        "id": "uJ-7nv3FtA9a",
        "collapsed": true
      },
      "outputs": [],
      "source": [
        "!wget https://huggingface.co/omeryentur/phi-3-sql/resolve/main/phi-3-sql.Q4_K_M.gguf"
      ]
    },
    {
      "cell_type": "code",
      "source": [
        "!pip install --upgrade --quiet  transformers --quiet"
      ],
      "metadata": {
        "id": "6iZuGNrdtFle"
      },
      "execution_count": null,
      "outputs": []
    },
    {
      "cell_type": "code",
      "source": [
        "from langchain_community.llms import LlamaCpp\n"
      ],
      "metadata": {
        "id": "exUancbpuZk_"
      },
      "execution_count": null,
      "outputs": []
    },
    {
      "cell_type": "code",
      "source": [
        "client=LlamaCpp(model_path=\"/content/phi-3-sql.Q4_K_M.gguf\")"
      ],
      "metadata": {
        "id": "V3Yw0uAyucNf",
        "collapsed": true
      },
      "execution_count": null,
      "outputs": []
    },
    {
      "cell_type": "code",
      "source": [
        "from langchain.prompts.prompt import PromptTemplate\n"
      ],
      "metadata": {
        "id": "khn_tp3uugU4"
      },
      "execution_count": null,
      "outputs": []
    },
    {
      "cell_type": "code",
      "source": [
        "from langchain.sql_database import SQLDatabase\n"
      ],
      "metadata": {
        "id": "os0GVRkNuis3"
      },
      "execution_count": null,
      "outputs": []
    },
    {
      "cell_type": "code",
      "source": [
        "db_path=\"sqlite:///example.db\"\n",
        "db=SQLDatabase.from_uri(database_uri=db_path)"
      ],
      "metadata": {
        "id": "_TvaiplBuki4"
      },
      "execution_count": null,
      "outputs": []
    },
    {
      "cell_type": "code",
      "source": [
        "db.get_table_names()"
      ],
      "metadata": {
        "colab": {
          "base_uri": "https://localhost:8080/"
        },
        "id": "1HFC8v4Yuyg7",
        "outputId": "5d1002d8-5139-4121-8a94-caaef6269311"
      },
      "execution_count": null,
      "outputs": [
        {
          "output_type": "stream",
          "name": "stderr",
          "text": [
            "/usr/local/lib/python3.10/dist-packages/langchain_core/_api/deprecation.py:139: LangChainDeprecationWarning: The method `SQLDatabase.get_table_names` was deprecated in langchain-community 0.0.1 and will be removed in 0.3.0. Use get_usable_table_names instead.\n",
            "  warn_deprecated(\n"
          ]
        },
        {
          "output_type": "execute_result",
          "data": {
            "text/plain": [
              "['courses', 'students']"
            ]
          },
          "metadata": {},
          "execution_count": 11
        }
      ]
    },
    {
      "cell_type": "code",
      "source": [
        "db._sample_rows_in_table_info=0"
      ],
      "metadata": {
        "id": "d9CUeX7Ou19C"
      },
      "execution_count": null,
      "outputs": []
    },
    {
      "cell_type": "code",
      "source": [
        "table_info=db.get_table_info()\n",
        "table_info"
      ],
      "metadata": {
        "colab": {
          "base_uri": "https://localhost:8080/",
          "height": 53
        },
        "id": "L-C1sSg8u327",
        "outputId": "1e8ca01e-83a1-4271-a13b-1a2b49a34963"
      },
      "execution_count": null,
      "outputs": [
        {
          "output_type": "execute_result",
          "data": {
            "text/plain": [
              "'\\nCREATE TABLE courses (\\n\\tid INTEGER, \\n\\tname TEXT NOT NULL, \\n\\tdescription TEXT, \\n\\tPRIMARY KEY (id)\\n)\\n\\n\\nCREATE TABLE students (\\n\\tid INTEGER, \\n\\tname TEXT NOT NULL, \\n\\tage INTEGER NOT NULL, \\n\\tPRIMARY KEY (id)\\n)'"
            ],
            "application/vnd.google.colaboratory.intrinsic+json": {
              "type": "string"
            }
          },
          "metadata": {},
          "execution_count": 14
        }
      ]
    },
    {
      "cell_type": "code",
      "source": [
        "template=\"\"\"\n",
        "<|system|>\n",
        "{table_info}\n",
        "\n",
        "<|user|>\n",
        "{question}\n",
        "<|sql|>\n",
        "\"\"\"\n"
      ],
      "metadata": {
        "id": "MRrGiKxeu70U"
      },
      "execution_count": null,
      "outputs": []
    },
    {
      "cell_type": "code",
      "source": [
        "from langchain.schema import HumanMessage\n"
      ],
      "metadata": {
        "id": "_YllGWEiu6Cz"
      },
      "execution_count": null,
      "outputs": []
    },
    {
      "cell_type": "code",
      "source": [
        "question=\"Courses containing Introduction\"\n",
        "\n",
        "prompt=PromptTemplate.from_template(template)\n",
        "\n"
      ],
      "metadata": {
        "id": "uhPagnzpu-_0"
      },
      "execution_count": null,
      "outputs": []
    },
    {
      "cell_type": "code",
      "source": [
        "res=client(prompt.format(table_info=table_info,question=question))"
      ],
      "metadata": {
        "id": "1QT2yT7SvT3H"
      },
      "execution_count": null,
      "outputs": []
    },
    {
      "cell_type": "code",
      "source": [
        "sql_query=res\n",
        "sql_query"
      ],
      "metadata": {
        "colab": {
          "base_uri": "https://localhost:8080/",
          "height": 35
        },
        "id": "mVTfNbHUvZ05",
        "outputId": "210cf720-a659-4f56-9b3a-b4f7a6f5f7f7"
      },
      "execution_count": null,
      "outputs": [
        {
          "output_type": "execute_result",
          "data": {
            "text/plain": [
              "'SELECT * FROM \"courses\" WHERE \"description\" LIKE \\'%Introduction%\\'\\n'"
            ],
            "application/vnd.google.colaboratory.intrinsic+json": {
              "type": "string"
            }
          },
          "metadata": {},
          "execution_count": 24
        }
      ]
    },
    {
      "cell_type": "code",
      "source": [
        "db.run(sql_query)"
      ],
      "metadata": {
        "colab": {
          "base_uri": "https://localhost:8080/",
          "height": 53
        },
        "id": "8dTv0E_2vlgR",
        "outputId": "55bfe8dd-427d-443f-bcbf-42455694493b"
      },
      "execution_count": null,
      "outputs": [
        {
          "output_type": "execute_result",
          "data": {
            "text/plain": [
              "\"[(2, 'Physics', 'Introduction to Physics'), (4, 'Biology', 'Introduction to Biology'), (6, 'Geography', 'Introduction to Geography'), (9, 'Computer Science', 'Introduction to Computer Science')]\""
            ],
            "application/vnd.google.colaboratory.intrinsic+json": {
              "type": "string"
            }
          },
          "metadata": {},
          "execution_count": 25
        }
      ]
    }
  ]
}